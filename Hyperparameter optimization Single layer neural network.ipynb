{
 "cells": [
  {
   "cell_type": "markdown",
   "id": "d74b9af8",
   "metadata": {},
   "source": [
    "# <span style=\"text-decoration: underline\">Hyperparameter optimization Single layer neural network and Compersion between Neural Network Vs Linear Regression Vs Quadratic Regression"
   ]
  },
  {
   "cell_type": "markdown",
   "id": "0fca3ec5",
   "metadata": {},
   "source": [
    "# Import Library "
   ]
  },
  {
   "cell_type": "code",
   "execution_count": 1,
   "id": "48052da5",
   "metadata": {},
   "outputs": [],
   "source": [
    "import numpy as np\n",
    "import matplotlib.pyplot as plt\n",
    "from sklearn.datasets import make_regression\n",
    "import pandas as pd\n",
    "import seaborn as sns\n",
    "import tensorflow as tf\n",
    "from sklearn.metrics import mean_squared_error,r2_score\n",
    "import torch\n",
    "import torch.nn as nn\n",
    "import torch.optim as optim"
   ]
  },
  {
   "cell_type": "markdown",
   "id": "e83ddea5",
   "metadata": {},
   "source": [
    "# Load the data set"
   ]
  },
  {
   "cell_type": "code",
   "execution_count": 8,
   "id": "098074e9",
   "metadata": {},
   "outputs": [],
   "source": [
    "df = pd.read_csv('Concrete_Data.csv')\n",
    "# Normalize the dataset\n",
    "df_norm = (df - df.mean()) / df.std()\n",
    "\n",
    "# Split the dataset into training and testing sets\n",
    "train_df = df_norm.sample(frac=0.7, random_state=0)\n",
    "test_df = df_norm.drop(train_df.index)\n",
    "\n",
    "# Convert the datasets to numpy arrays\n",
    "train_data = train_df.values\n",
    "test_data = test_df.values\n",
    "\n",
    "# Extract the input and output variables from the training and testing sets\n",
    "train_X = train_data[:, :-1]\n",
    "train_y = train_data[:, -1].reshape(-1, 1)\n",
    "test_X = test_data[:, :-1]\n",
    "test_y = test_data[:, -1].reshape(-1, 1)"
   ]
  },
  {
   "cell_type": "markdown",
   "id": "2cf61f99",
   "metadata": {},
   "source": [
    "# Neural Network Class from Scratch"
   ]
  },
  {
   "cell_type": "code",
   "execution_count": 3,
   "id": "3181c015",
   "metadata": {},
   "outputs": [],
   "source": [
    "class NeuralNetwork_py:\n",
    "    \n",
    "    def __init__(self, input_dim, hidden_dim, output_dim):\n",
    "        self.input_dim = input_dim\n",
    "        self.hidden_dim = hidden_dim\n",
    "        self.output_dim = output_dim\n",
    "        self.weights1 = np.random.randn(input_dim, hidden_dim)\n",
    "        self.bias1 = np.zeros((1, hidden_dim))\n",
    "        self.weights2 = np.random.randn(hidden_dim, output_dim)\n",
    "        self.bias2 = np.zeros((1, output_dim))\n",
    "    \n",
    "    def sigmoid(self, x):\n",
    "        return 1 / (1 + np.exp(-x))\n",
    "    \n",
    "    def sigmoid_derivative(self, x):\n",
    "        return x * (1 - x)\n",
    "    \n",
    "    def forward(self, X):\n",
    "        self.hidden_layer = self.sigmoid(np.dot(X, self.weights1) + self.bias1)\n",
    "        self.output_layer = np.dot(self.hidden_layer, self.weights2) + self.bias2\n",
    "        #error = y - self.output_layer\n",
    "        return self.output_layer\n",
    "    \n",
    "    def backward(self, X, y, learning_rate):\n",
    "        d_output_layer = y - self.output_layer\n",
    "        d_weights2 = np.dot(self.hidden_layer.T, d_output_layer)\n",
    "        d_bias2 = np.sum(d_output_layer, axis=0, keepdims=True)\n",
    "        d_hidden_layer = np.dot(d_output_layer, self.weights2.T) * self.sigmoid_derivative(self.hidden_layer)\n",
    "        d_weights1 = np.dot(X.T, d_hidden_layer)\n",
    "        d_bias1 = np.sum(d_hidden_layer, axis=0, keepdims=True)\n",
    "        \n",
    "        self.weights1 += learning_rate * d_weights1\n",
    "        self.bias1 += learning_rate * d_bias1\n",
    "        self.weights2 += learning_rate * d_weights2\n",
    "        self.bias2 += learning_rate * d_bias2\n",
    "    \n",
    "    def train(self, X, y, num_epochs, learning_rate):\n",
    "        for epoch in range(num_epochs):\n",
    "            for i in range(len(X)):\n",
    "                xi = X[i].reshape(1, -1)\n",
    "                yi = y[i].reshape(1, -1)\n",
    "                output = self.forward(xi)\n",
    "                self.backward(xi, yi, learning_rate)\n",
    "            error = y - self.output_layer\n",
    "            if epoch%100==0:\n",
    "                print('error after',epoch,'iteration : \\t',np.average(error))\n",
    "            \n",
    "    \n",
    "    def predict(self, X):\n",
    "        return self.forward(X)"
   ]
  },
  {
   "cell_type": "code",
   "execution_count": 5,
   "id": "38f75170",
   "metadata": {},
   "outputs": [],
   "source": [
    "train_df_hy = df_norm.sample(frac=0.6, random_state=0)\n",
    "temp_df = df_norm.drop(train_df.index)\n",
    "val_df_hy = temp_df.sample(frac=0.5, random_state=0)\n",
    "test_df_hy = temp_df.drop(val_df_hy.index)\n",
    "\n",
    "###########################\n",
    "train_data_hy = train_df_hy.values\n",
    "val_data_hy = val_df_hy.values\n",
    "test_data_hy = test_df_hy.values\n",
    "\n",
    "train_X_hy = train_data_hy[:, :-1]\n",
    "train_y_hy = train_data_hy[:, -1].reshape(-1, 1)\n",
    "test_X_hy = test_data_hy[:, :-1]\n",
    "test_y_hy = test_data_hy[:, -1].reshape(-1, 1)\n",
    "val_X_hy = val_data_hy[:, :-1]\n",
    "val_y_hy = val_data_hy[:, -1].reshape(-1, 1)"
   ]
  },
  {
   "cell_type": "markdown",
   "id": "c45cda5b",
   "metadata": {},
   "source": [
    "# Hyperparameter optimization Single layer neural network"
   ]
  },
  {
   "cell_type": "code",
   "execution_count": 6,
   "id": "11bd81d3",
   "metadata": {},
   "outputs": [
    {
     "name": "stdout",
     "output_type": "stream",
     "text": [
      "error after 0 iteration : \t -1.4078039487148293\n",
      "error after 100 iteration : \t -0.6229359701484484\n",
      "error after 200 iteration : \t -0.6222059270865736\n",
      "error after 300 iteration : \t -0.6214241735748557\n",
      "error after 400 iteration : \t -0.621289024646915\n",
      "error after 500 iteration : \t -0.6212685254947107\n",
      "error after 600 iteration : \t -0.6212654878953311\n",
      "error after 700 iteration : \t -0.6212650409128756\n",
      "error after 800 iteration : \t -0.6212649753660651\n",
      "error after 900 iteration : \t -0.6212649657746695\n",
      "Hidden Layer Size: 2, Mean Squared Error: 0.22807516875558742\n",
      "error after 0 iteration : \t -0.5538649196010744\n",
      "error after 100 iteration : \t -0.6362693575206089\n",
      "error after 200 iteration : \t -0.5998022272984567\n",
      "error after 300 iteration : \t -0.5870396326920242\n",
      "error after 400 iteration : \t -0.5786029761000151\n",
      "error after 500 iteration : \t -0.5768710964107507\n",
      "error after 600 iteration : \t -0.5794754752612058\n",
      "error after 700 iteration : \t -0.585307718994815\n",
      "error after 800 iteration : \t -0.5908356677704127\n",
      "error after 900 iteration : \t -0.5441959263000189\n",
      "Hidden Layer Size: 3, Mean Squared Error: 0.18633658288410165\n",
      "error after 0 iteration : \t -1.484910732815968\n",
      "error after 100 iteration : \t -0.7048398030605343\n",
      "error after 200 iteration : \t -0.7383152000791153\n",
      "error after 300 iteration : \t -0.748536263935822\n",
      "error after 400 iteration : \t -0.7506818461031252\n",
      "error after 500 iteration : \t -0.750161575960286\n",
      "error after 600 iteration : \t -0.7484719682425388\n",
      "error after 700 iteration : \t -0.7460845767691586\n",
      "error after 800 iteration : \t -0.7431569711881492\n",
      "error after 900 iteration : \t -0.7396964236114119\n",
      "Hidden Layer Size: 4, Mean Squared Error: 0.23052897633273253\n",
      "error after 0 iteration : \t -0.7969529070055896\n",
      "error after 100 iteration : \t -0.7188573545374293\n",
      "error after 200 iteration : \t -0.6657258796726321\n",
      "error after 300 iteration : \t -0.62439755385177\n",
      "error after 400 iteration : \t -0.5672828181825217\n",
      "error after 500 iteration : \t -0.5423426747222918\n",
      "error after 600 iteration : \t -0.5435903750087245\n",
      "error after 700 iteration : \t -0.5445593977602824\n",
      "error after 800 iteration : \t -0.5451432444886531\n",
      "error after 900 iteration : \t -0.5455845871485308\n",
      "Hidden Layer Size: 5, Mean Squared Error: 0.23939789303103895\n",
      "error after 0 iteration : \t -0.9642955012072302\n",
      "error after 100 iteration : \t -0.5030668693799288\n",
      "error after 200 iteration : \t -0.4975127735936063\n",
      "error after 300 iteration : \t -0.5039054910674295\n",
      "error after 400 iteration : \t -0.5158030535850192\n",
      "error after 500 iteration : \t -0.5230729628413218\n",
      "error after 600 iteration : \t -0.5280397726851845\n",
      "error after 700 iteration : \t -0.5317843479882173\n",
      "error after 800 iteration : \t -0.5348156704925012\n",
      "error after 900 iteration : \t -0.5373881764308878\n",
      "Hidden Layer Size: 6, Mean Squared Error: 0.1778547808087042\n",
      "error after 0 iteration : \t -0.9097901300878394\n",
      "error after 100 iteration : \t -0.2967001817676148\n",
      "error after 200 iteration : \t -0.24692465802506267\n",
      "error after 300 iteration : \t -0.25382418640683296\n",
      "error after 400 iteration : \t -0.24543332537131196\n",
      "error after 500 iteration : \t -0.23614203690359636\n",
      "error after 600 iteration : \t -0.2283212829830795\n",
      "error after 700 iteration : \t -0.22165132840454416\n",
      "error after 800 iteration : \t -0.2157752146892068\n",
      "error after 900 iteration : \t -0.21074993327560473\n",
      "Hidden Layer Size: 7, Mean Squared Error: 0.14009698607922946\n",
      "\n",
      "The best model has 7 neurons in the hidden layer with a MSE of 0.14009698607922946\n",
      "Mean Squared Error (Test Set): 0.18570315553563382\n"
     ]
    },
    {
     "data": {
      "image/png": "[encoded data removed]",
      "text/plain": [
       "<Figure size 432x288 with 1 Axes>"
      ]
     },
     "metadata": {
      "needs_background": "light"
     },
     "output_type": "display_data"
    }
   ],
   "source": [
    "# Train and evaluate the models with different numbers of hidden neurons\n",
    "hidden_layer_sizes = [2, 3, 4, 5, 6, 7]\n",
    "input_dim = 8\n",
    "output_dim = 1\n",
    "mse_values = []\n",
    "best_mse = float('inf')\n",
    "best_model = None\n",
    "\n",
    "for size in hidden_layer_sizes:\n",
    "    model = NeuralNetwork_py(input_dim=input_dim, hidden_dim=size, output_dim=output_dim)\n",
    "    model.train(train_X_hy, train_y_hy, num_epochs=1000, learning_rate=0.1)\n",
    "    \n",
    "    # Make predictions on the validation set and compute the mean squared error\n",
    "    predictions = model.predict(val_X_hy)\n",
    "    mse = np.mean((predictions - val_y_hy) ** 2)\n",
    "    mse_values.append(mse)\n",
    "    \n",
    "    # Check if this model is the best so far\n",
    "    if mse < best_mse:\n",
    "        best_mse = mse\n",
    "        best_model = model\n",
    "        best_size = size\n",
    "\n",
    "    print(f'Hidden Layer Size: {size}, Mean Squared Error: {mse}')\n",
    "\n",
    "print(f'\\nThe best model has {best_size} neurons in the hidden layer with a MSE of {best_mse}')\n",
    "\n",
    "# Make predictions on the test set using the best model and compute the mean squared error\n",
    "predictions = best_model.predict(test_X_hy)\n",
    "mse = np.mean((predictions - test_y_hy) ** 2)\n",
    "print('Mean Squared Error (Test Set):', mse)\n",
    "\n",
    "# Plot the MSE values for each model\n",
    "plt.plot(hidden_layer_sizes, mse_values)\n",
    "plt.xlabel('Number of Hidden Neurons')\n",
    "plt.ylabel('Mean Squared Error')\n",
    "plt.title('Validation Performance of Different Hidden Layer Sizes')\n",
    "plt.show()\n"
   ]
  },
  {
   "cell_type": "markdown",
   "id": "4c53ede5",
   "metadata": {},
   "source": [
    "**The best model has 7 neurons in the hidden layer with a MSE of 0.14009698607922946**"
   ]
  },
  {
   "cell_type": "markdown",
   "id": "50dc0a42",
   "metadata": {},
   "source": [
    "# Optimal neural network compare with linear and quadratic regression"
   ]
  },
  {
   "cell_type": "markdown",
   "id": "67c31b5d",
   "metadata": {},
   "source": [
    "## <span style='color:orange'>  Linear Regression "
   ]
  },
  {
   "cell_type": "code",
   "execution_count": 9,
   "id": "d5558316",
   "metadata": {},
   "outputs": [
    {
     "data": {
      "text/html": [
       "<style>#sk-container-id-1 {color: black;background-color: white;}#sk-container-id-1 pre{padding: 0;}#sk-container-id-1 div.sk-toggleable {background-color: white;}#sk-container-id-1 label.sk-toggleable__label {cursor: pointer;display: block;width: 100%;margin-bottom: 0;padding: 0.3em;box-sizing: border-box;text-align: center;}#sk-container-id-1 label.sk-toggleable__label-arrow:before {content: \"▸\";float: left;margin-right: 0.25em;color: #696969;}#sk-container-id-1 label.sk-toggleable__label-arrow:hover:before {color: black;}#sk-container-id-1 div.sk-estimator:hover label.sk-toggleable__label-arrow:before {color: black;}#sk-container-id-1 div.sk-toggleable__content {max-height: 0;max-width: 0;overflow: hidden;text-align: left;background-color: #f0f8ff;}#sk-container-id-1 div.sk-toggleable__content pre {margin: 0.2em;color: black;border-radius: 0.25em;background-color: #f0f8ff;}#sk-container-id-1 input.sk-toggleable__control:checked~div.sk-toggleable__content {max-height: 200px;max-width: 100%;overflow: auto;}#sk-container-id-1 input.sk-toggleable__control:checked~label.sk-toggleable__label-arrow:before {content: \"▾\";}#sk-container-id-1 div.sk-estimator input.sk-toggleable__control:checked~label.sk-toggleable__label {background-color: #d4ebff;}#sk-container-id-1 div.sk-label input.sk-toggleable__control:checked~label.sk-toggleable__label {background-color: #d4ebff;}#sk-container-id-1 input.sk-hidden--visually {border: 0;clip: rect(1px 1px 1px 1px);clip: rect(1px, 1px, 1px, 1px);height: 1px;margin: -1px;overflow: hidden;padding: 0;position: absolute;width: 1px;}#sk-container-id-1 div.sk-estimator {font-family: monospace;background-color: #f0f8ff;border: 1px dotted black;border-radius: 0.25em;box-sizing: border-box;margin-bottom: 0.5em;}#sk-container-id-1 div.sk-estimator:hover {background-color: #d4ebff;}#sk-container-id-1 div.sk-parallel-item::after {content: \"\";width: 100%;border-bottom: 1px solid gray;flex-grow: 1;}#sk-container-id-1 div.sk-label:hover label.sk-toggleable__label {background-color: #d4ebff;}#sk-container-id-1 div.sk-serial::before {content: \"\";position: absolute;border-left: 1px solid gray;box-sizing: border-box;top: 0;bottom: 0;left: 50%;z-index: 0;}#sk-container-id-1 div.sk-serial {display: flex;flex-direction: column;align-items: center;background-color: white;padding-right: 0.2em;padding-left: 0.2em;position: relative;}#sk-container-id-1 div.sk-item {position: relative;z-index: 1;}#sk-container-id-1 div.sk-parallel {display: flex;align-items: stretch;justify-content: center;background-color: white;position: relative;}#sk-container-id-1 div.sk-item::before, #sk-container-id-1 div.sk-parallel-item::before {content: \"\";position: absolute;border-left: 1px solid gray;box-sizing: border-box;top: 0;bottom: 0;left: 50%;z-index: -1;}#sk-container-id-1 div.sk-parallel-item {display: flex;flex-direction: column;z-index: 1;position: relative;background-color: white;}#sk-container-id-1 div.sk-parallel-item:first-child::after {align-self: flex-end;width: 50%;}#sk-container-id-1 div.sk-parallel-item:last-child::after {align-self: flex-start;width: 50%;}#sk-container-id-1 div.sk-parallel-item:only-child::after {width: 0;}#sk-container-id-1 div.sk-dashed-wrapped {border: 1px dashed gray;margin: 0 0.4em 0.5em 0.4em;box-sizing: border-box;padding-bottom: 0.4em;background-color: white;}#sk-container-id-1 div.sk-label label {font-family: monospace;font-weight: bold;display: inline-block;line-height: 1.2em;}#sk-container-id-1 div.sk-label-container {text-align: center;}#sk-container-id-1 div.sk-container {/* jupyter's `normalize.less` sets `[hidden] { display: none; }` but bootstrap.min.css set `[hidden] { display: none !important; }` so we also need the `!important` here to be able to override the default hidden behavior on the sphinx rendered scikit-learn.org. See: https://github.com/scikit-learn/scikit-learn/issues/21755 */display: inline-block !important;position: relative;}#sk-container-id-1 div.sk-text-repr-fallback {display: none;}</style><div id=\"sk-container-id-1\" class=\"sk-top-container\"><div class=\"sk-text-repr-fallback\"><pre>LinearRegression()</pre><b>In a Jupyter environment, please rerun this cell to show the HTML representation or trust the notebook. <br />On GitHub, the HTML representation is unable to render, please try loading this page with nbviewer.org.</b></div><div class=\"sk-container\" hidden><div class=\"sk-item\"><div class=\"sk-estimator sk-toggleable\"><input class=\"sk-toggleable__control sk-hidden--visually\" id=\"sk-estimator-id-1\" type=\"checkbox\" checked><label for=\"sk-estimator-id-1\" class=\"sk-toggleable__label sk-toggleable__label-arrow\">LinearRegression</label><div class=\"sk-toggleable__content\"><pre>LinearRegression()</pre></div></div></div></div></div>"
      ],
      "text/plain": [
       "LinearRegression()"
      ]
     },
     "execution_count": 9,
     "metadata": {},
     "output_type": "execute_result"
    }
   ],
   "source": [
    "from sklearn.linear_model import LinearRegression, Ridge, Lasso\n",
    "#ridgeModelChosen = Ridge(alpha = 3)\n",
    "model = LinearRegression()\n",
    "model.fit(train_X,train_y)\n",
    "#ridgeModelChosen.fit(train_X, train_y)"
   ]
  },
  {
   "cell_type": "markdown",
   "id": "a6d7f21f",
   "metadata": {},
   "source": [
    "## <span style='color:purple'> Quadratic regression"
   ]
  },
  {
   "cell_type": "code",
   "execution_count": 11,
   "id": "dca7fec3",
   "metadata": {},
   "outputs": [
    {
     "data": {
      "text/html": [
       "<style>#sk-container-id-2 {color: black;background-color: white;}#sk-container-id-2 pre{padding: 0;}#sk-container-id-2 div.sk-toggleable {background-color: white;}#sk-container-id-2 label.sk-toggleable__label {cursor: pointer;display: block;width: 100%;margin-bottom: 0;padding: 0.3em;box-sizing: border-box;text-align: center;}#sk-container-id-2 label.sk-toggleable__label-arrow:before {content: \"▸\";float: left;margin-right: 0.25em;color: #696969;}#sk-container-id-2 label.sk-toggleable__label-arrow:hover:before {color: black;}#sk-container-id-2 div.sk-estimator:hover label.sk-toggleable__label-arrow:before {color: black;}#sk-container-id-2 div.sk-toggleable__content {max-height: 0;max-width: 0;overflow: hidden;text-align: left;background-color: #f0f8ff;}#sk-container-id-2 div.sk-toggleable__content pre {margin: 0.2em;color: black;border-radius: 0.25em;background-color: #f0f8ff;}#sk-container-id-2 input.sk-toggleable__control:checked~div.sk-toggleable__content {max-height: 200px;max-width: 100%;overflow: auto;}#sk-container-id-2 input.sk-toggleable__control:checked~label.sk-toggleable__label-arrow:before {content: \"▾\";}#sk-container-id-2 div.sk-estimator input.sk-toggleable__control:checked~label.sk-toggleable__label {background-color: #d4ebff;}#sk-container-id-2 div.sk-label input.sk-toggleable__control:checked~label.sk-toggleable__label {background-color: #d4ebff;}#sk-container-id-2 input.sk-hidden--visually {border: 0;clip: rect(1px 1px 1px 1px);clip: rect(1px, 1px, 1px, 1px);height: 1px;margin: -1px;overflow: hidden;padding: 0;position: absolute;width: 1px;}#sk-container-id-2 div.sk-estimator {font-family: monospace;background-color: #f0f8ff;border: 1px dotted black;border-radius: 0.25em;box-sizing: border-box;margin-bottom: 0.5em;}#sk-container-id-2 div.sk-estimator:hover {background-color: #d4ebff;}#sk-container-id-2 div.sk-parallel-item::after {content: \"\";width: 100%;border-bottom: 1px solid gray;flex-grow: 1;}#sk-container-id-2 div.sk-label:hover label.sk-toggleable__label {background-color: #d4ebff;}#sk-container-id-2 div.sk-serial::before {content: \"\";position: absolute;border-left: 1px solid gray;box-sizing: border-box;top: 0;bottom: 0;left: 50%;z-index: 0;}#sk-container-id-2 div.sk-serial {display: flex;flex-direction: column;align-items: center;background-color: white;padding-right: 0.2em;padding-left: 0.2em;position: relative;}#sk-container-id-2 div.sk-item {position: relative;z-index: 1;}#sk-container-id-2 div.sk-parallel {display: flex;align-items: stretch;justify-content: center;background-color: white;position: relative;}#sk-container-id-2 div.sk-item::before, #sk-container-id-2 div.sk-parallel-item::before {content: \"\";position: absolute;border-left: 1px solid gray;box-sizing: border-box;top: 0;bottom: 0;left: 50%;z-index: -1;}#sk-container-id-2 div.sk-parallel-item {display: flex;flex-direction: column;z-index: 1;position: relative;background-color: white;}#sk-container-id-2 div.sk-parallel-item:first-child::after {align-self: flex-end;width: 50%;}#sk-container-id-2 div.sk-parallel-item:last-child::after {align-self: flex-start;width: 50%;}#sk-container-id-2 div.sk-parallel-item:only-child::after {width: 0;}#sk-container-id-2 div.sk-dashed-wrapped {border: 1px dashed gray;margin: 0 0.4em 0.5em 0.4em;box-sizing: border-box;padding-bottom: 0.4em;background-color: white;}#sk-container-id-2 div.sk-label label {font-family: monospace;font-weight: bold;display: inline-block;line-height: 1.2em;}#sk-container-id-2 div.sk-label-container {text-align: center;}#sk-container-id-2 div.sk-container {/* jupyter's `normalize.less` sets `[hidden] { display: none; }` but bootstrap.min.css set `[hidden] { display: none !important; }` so we also need the `!important` here to be able to override the default hidden behavior on the sphinx rendered scikit-learn.org. See: https://github.com/scikit-learn/scikit-learn/issues/21755 */display: inline-block !important;position: relative;}#sk-container-id-2 div.sk-text-repr-fallback {display: none;}</style><div id=\"sk-container-id-2\" class=\"sk-top-container\"><div class=\"sk-text-repr-fallback\"><pre>LinearRegression()</pre><b>In a Jupyter environment, please rerun this cell to show the HTML representation or trust the notebook. <br />On GitHub, the HTML representation is unable to render, please try loading this page with nbviewer.org.</b></div><div class=\"sk-container\" hidden><div class=\"sk-item\"><div class=\"sk-estimator sk-toggleable\"><input class=\"sk-toggleable__control sk-hidden--visually\" id=\"sk-estimator-id-2\" type=\"checkbox\" checked><label for=\"sk-estimator-id-2\" class=\"sk-toggleable__label sk-toggleable__label-arrow\">LinearRegression</label><div class=\"sk-toggleable__content\"><pre>LinearRegression()</pre></div></div></div></div></div>"
      ],
      "text/plain": [
       "LinearRegression()"
      ]
     },
     "execution_count": 11,
     "metadata": {},
     "output_type": "execute_result"
    }
   ],
   "source": [
    "# Fitting Polynomial Regression to the dataset\n",
    "from sklearn.preprocessing import PolynomialFeatures\n",
    "poly = PolynomialFeatures(degree = 2)\n",
    "X_poly = poly.fit_transform(train_X)\n",
    "from sklearn.linear_model import LinearRegression\n",
    "poly.fit(X_poly, train_y)\n",
    "lin2 = LinearRegression()\n",
    "lin2.fit(X_poly, train_y)"
   ]
  },
  {
   "cell_type": "markdown",
   "id": "ec7bfbbe",
   "metadata": {},
   "source": [
    "## _Compersion between <span style='color:red'> Neural Network  </span> Vs <span style='color:green'> Linear Regression  </span> Vs <span style='color:blue'> Quadratic Regression  </span>_"
   ]
  },
  {
   "cell_type": "code",
   "execution_count": 12,
   "id": "454b844b",
   "metadata": {},
   "outputs": [
    {
     "data": {
      "image/png": "[encoded data removed]",
      "text/plain": [
       "<Figure size 1080x288 with 3 Axes>"
      ]
     },
     "metadata": {
      "needs_background": "light"
     },
     "output_type": "display_data"
    }
   ],
   "source": [
    "fig,a =  plt.subplots(nrows=1,ncols=3,figsize=(15,4))\n",
    "x = np.arange(1,5)\n",
    "a[0].scatter(test_y_hy,predictions,color='red')\n",
    "a[0].set_title('Neural Network')\n",
    "a[1].scatter(test_y,model.predict(test_X),color='g')\n",
    "a[1].set_title('Linear Regression')\n",
    "a[2].scatter(test_y,lin2.predict(poly.fit_transform(test_X)),color='blue')\n",
    "a[2].set_title('Quadratic Regression')\n",
    "plt.show()"
   ]
  },
  {
   "cell_type": "markdown",
   "id": "66a37025",
   "metadata": {},
   "source": [
    "# Error Calculation"
   ]
  },
  {
   "cell_type": "code",
   "execution_count": 13,
   "id": "b38c2594",
   "metadata": {},
   "outputs": [
    {
     "name": "stdout",
     "output_type": "stream",
     "text": [
      "MSE for test data  Using Neural Network: 0.18570315553563382\n",
      "MSE for test data  Using linear regression : 0.4006947906240477\n",
      "MSE for test data using quadratic model :  0.21781732080120578\n"
     ]
    }
   ],
   "source": [
    "print('MSE for test data  Using Neural Network:', mse)\n",
    "print('MSE for test data  Using linear regression :',mean_squared_error(test_y,model.predict(test_X)))\n",
    "print('MSE for test data using quadratic model : ', mean_squared_error(test_y,lin2.predict(poly.fit_transform(test_X)))) "
   ]
  },
  {
   "cell_type": "code",
   "execution_count": 17,
   "id": "bbd5b5f3",
   "metadata": {},
   "outputs": [
    {
     "name": "stdout",
     "output_type": "stream",
     "text": [
      "r2_score for test data  Using Neural Network: 0.789480737698012\n",
      "r2_score for test data  Using linear regression : 0.6094407176202787\n",
      "r2_score for test data using quadratic model :  0.7876923321875426\n"
     ]
    }
   ],
   "source": [
    "print('r2_score for test data  Using Neural Network:', r2_score(test_y_hy,predictions))\n",
    "print('r2_score for test data  Using linear regression :',r2_score(test_y,model.predict(test_X)))\n",
    "print('r2_score for test data using quadratic model : ', r2_score(test_y,lin2.predict(poly.fit_transform(test_X))))"
   ]
  },
  {
   "cell_type": "code",
   "execution_count": null,
   "id": "cf889de1",
   "metadata": {},
   "outputs": [],
   "source": []
  }
 ],
 "metadata": {
  "kernelspec": {
   "display_name": "Python 3 (ipykernel)",
   "language": "python",
   "name": "python3"
  },
  "language_info": {
   "codemirror_mode": {
    "name": "ipython",
    "version": 3
   },
   "file_extension": ".py",
   "mimetype": "text/x-python",
   "name": "python",
   "nbconvert_exporter": "python",
   "pygments_lexer": "ipython3",
   "version": "3.9.12"
  }
 },
 "nbformat": 4,
 "nbformat_minor": 5
}
